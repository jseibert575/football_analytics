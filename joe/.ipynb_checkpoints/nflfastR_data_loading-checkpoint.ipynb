{
 "cells": [
  {
   "cell_type": "code",
   "execution_count": null,
   "metadata": {},
   "outputs": [],
   "source": [
    "import pandas as pd\n",
    "import numpy as np"
   ]
  },
  {
   "cell_type": "code",
   "execution_count": null,
   "metadata": {},
   "outputs": [],
   "source": [
    "#Enter desired years of data\n",
    "YEARS = [2019,2018,2017]\n",
    "\n",
    "data = pd.DataFrame()\n",
    "\n",
    "for i in YEARS:  \n",
    "    #low_memory=False eliminates a warning\n",
    "    i_data = pd.read_csv('https://github.com/guga31bb/nflfastR-data/blob/master/data/' \n",
    "                         'play_by_play_' + str(i) + '.csv.gz?raw=True',\n",
    "                         compression='gzip', low_memory=False)\n",
    "\n",
    "    #sort=True eliminates a warning and alphabetically sorts columns\n",
    "    data = data.append(i_data, sort=True)\n",
    "\n",
    "#Give each row a unique index\n",
    "data.reset_index(drop=True, inplace=True)\n",
    "    \n",
    "roster = pd.read_csv('https://raw.githubusercontent.com/guga31bb/nflfastR-data/master/'  \n",
    "                     'roster-data/roster.csv.gz', compression='gzip', low_memory=False)"
   ]
  },
  {
   "cell_type": "code",
   "execution_count": null,
   "metadata": {},
   "outputs": [],
   "source": [
    "for col in data.columns:\n",
    "    print(col)"
   ]
  },
  {
   "cell_type": "code",
   "execution_count": null,
   "metadata": {},
   "outputs": [],
   "source": [
    "(data.query(\"receiver_player_name == 'J.Landry'\")\n",
    "                    .query(\"touchdown == 1\")\n",
    "                    .query(\"interception == 0\")\n",
    "                    .query(\"season == 2019\")\n",
    "               )\n"
   ]
  },
  {
   "cell_type": "code",
   "execution_count": null,
   "metadata": {},
   "outputs": [],
   "source": [
    "data.query(\"receiver_player_name == 'J.Landry'\").query(\"touchdown == 1\").query(\"season == 2019\").query(\"week == 1\")"
   ]
  },
  {
   "cell_type": "code",
   "execution_count": null,
   "metadata": {},
   "outputs": [],
   "source": [
    "data.game_type.astype('category').values"
   ]
  },
  {
   "cell_type": "code",
   "execution_count": null,
   "metadata": {},
   "outputs": [],
   "source": [
    "season_rush_stats_2019 = (data\n",
    "                     .query(\"play_type == 'run' or play_type == 'qb_kneel'\")\n",
    "                     .query(\"interception == 0\")\n",
    "                     .query(\"season == 2019\")\n",
    "                     .query(\"game_type == 'REG'\")\n",
    "                     .groupby(['rusher_player_id', 'rusher_player_name'])\n",
    "                     .agg(carries = ('play_id', 'count'),\n",
    "                          rush_yards = ('yards_gained', 'sum'),\n",
    "                          rush_tds = ('touchdown', 'sum'))\n",
    "                     .reset_index()\n",
    "                     .rename(columns={\n",
    "                         'rusher_player_id': 'player_id',\n",
    "                         'rusher_player_name': 'player_name'}))"
   ]
  },
  {
   "cell_type": "code",
   "execution_count": null,
   "metadata": {},
   "outputs": [],
   "source": [
    "season_rush_stats_2019.head()"
   ]
  },
  {
   "cell_type": "code",
   "execution_count": null,
   "metadata": {},
   "outputs": [],
   "source": [
    "season_rec_stats_2019 = (pbp_full\n",
    "                    .query(\"play_type == 'pass'\")\n",
    "                    .query(\"interception == 0\")\n",
    "                    .query(\"season == 2019\")\n",
    "                    .query(\"game_type == 'REG'\")\n",
    "                    .groupby(['receiver_player_id', 'receiver_player_name'])\n",
    "                    .agg(targets = ('play_id', 'count'),\n",
    "                         catches = ('complete_pass', 'sum'),\n",
    "                         rec_yards = ('yards_gained','sum'),\n",
    "                         rec_tds = ('touchdown','sum'))\n",
    "                    .reset_index()\n",
    "                    .rename(columns={\n",
    "                        'receiver_player_id': 'player_id',\n",
    "                        'receiver_player_name': 'player_name'}))"
   ]
  },
  {
   "cell_type": "code",
   "execution_count": null,
   "metadata": {},
   "outputs": [],
   "source": [
    "season_stats_2019 = (data\n",
    "                     .query(\"play_type == 'run' or play_type == 'qb_kneel'\")\n",
    "                     .query(\"interception == 0\")\n",
    "                     .query(\"season == 2019\")\n",
    "                     .query(\"game_type == 'REG'\")\n",
    "                     .groupby(['rusher_player_id', 'rusher_player_name'])\n",
    "                     .agg(carries = ('play_id', 'count'),\n",
    "                          rush_yards = ('yards_gained', 'sum'),\n",
    "                          rush_tds = ('touchdown', 'sum'))\n",
    "                     .reset_index()\n",
    "                     .rename(columns={\n",
    "                         'rusher_player_id': 'player_id',\n",
    "                         'rusher_player_name': 'player_name'}))"
   ]
  },
  {
   "cell_type": "code",
   "execution_count": null,
   "metadata": {},
   "outputs": [],
   "source": []
  }
 ],
 "metadata": {
  "kernelspec": {
   "display_name": "Python 3",
   "language": "python",
   "name": "python3"
  },
  "language_info": {
   "codemirror_mode": {
    "name": "ipython",
    "version": 3
   },
   "file_extension": ".py",
   "mimetype": "text/x-python",
   "name": "python",
   "nbconvert_exporter": "python",
   "pygments_lexer": "ipython3",
   "version": "3.7.4"
  }
 },
 "nbformat": 4,
 "nbformat_minor": 2
}
