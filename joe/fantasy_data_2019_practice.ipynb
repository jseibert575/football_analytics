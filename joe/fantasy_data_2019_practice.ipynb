{
 "cells": [
  {
   "cell_type": "markdown",
   "metadata": {},
   "source": [
    "Following https://github.com/nathanbraun/market-share-example/blob/master/market-share.py"
   ]
  },
  {
   "cell_type": "markdown",
   "metadata": {},
   "source": [
    "# Feel free to get ideas from this, but don't take the stats as gospel"
   ]
  },
  {
   "cell_type": "code",
   "execution_count": null,
   "metadata": {},
   "outputs": [],
   "source": [
    "import pandas as pd\n",
    "import numpy as np"
   ]
  },
  {
   "cell_type": "code",
   "execution_count": null,
   "metadata": {},
   "outputs": [],
   "source": [
    "PBP_PATH = 'https://raw.githubusercontent.com/ryurko/nflscrapR-data/master/play_by_play_data/regular_season/reg_pbp_2019.csv'\n",
    "PLAYER_PATH = 'https://raw.githubusercontent.com/ryurko/nflscrapR-data/master/roster_data/regular_season/reg_roster_2019.csv'\n",
    "GAME_PATH = 'https://raw.githubusercontent.com/ryurko/nflscrapR-data/master/games_data/regular_season/reg_games_2019.csv'"
   ]
  },
  {
   "cell_type": "code",
   "execution_count": null,
   "metadata": {},
   "outputs": [],
   "source": [
    "# load the data\n",
    "pbp = pd.read_csv(PBP_PATH, usecols=['play_id', 'game_id', 'game_date',\n",
    "                                     'posteam', 'defteam', 'play_type',\n",
    "                                     'complete_pass', 'receiver_player_id',\n",
    "                                     'receiver_player_name',\n",
    "                                     'rusher_player_id', 'rusher_player_name'])\n",
    "player = pd.read_csv(PLAYER_PATH)\n",
    "games = pd.read_csv(GAME_PATH)"
   ]
  },
  {
   "cell_type": "code",
   "execution_count": null,
   "metadata": {},
   "outputs": [],
   "source": [
    "pbp.head()"
   ]
  },
  {
   "cell_type": "code",
   "execution_count": null,
   "metadata": {},
   "outputs": [],
   "source": [
    "player.head()"
   ]
  },
  {
   "cell_type": "code",
   "execution_count": null,
   "metadata": {},
   "outputs": [],
   "source": [
    "games.head()"
   ]
  },
  {
   "cell_type": "markdown",
   "metadata": {},
   "source": [
    "Getting weekly stats"
   ]
  },
  {
   "cell_type": "code",
   "execution_count": null,
   "metadata": {},
   "outputs": [],
   "source": [
    "weekly_rush_stats = (pbp\n",
    "                     .query(\"play_type == 'run'\")\n",
    "                     .groupby(['game_id', 'rusher_player_id', 'rusher_player_name'])\n",
    "                     .agg(carries = ('play_id', 'count'))\n",
    "                     .reset_index()\n",
    "                     .rename(columns={\n",
    "                         'rusher_player_id': 'player_id',\n",
    "                         'rusher_player_name': 'player_name'}))"
   ]
  },
  {
   "cell_type": "code",
   "execution_count": null,
   "metadata": {},
   "outputs": [],
   "source": [
    "weekly_rush_stats.head()"
   ]
  },
  {
   "cell_type": "code",
   "execution_count": null,
   "metadata": {},
   "outputs": [],
   "source": [
    "weekly_rec_stats = (pbp\n",
    "                    .query(\"play_type == 'pass'\")\n",
    "                    .groupby(['game_id', 'receiver_player_id', 'receiver_player_name'])\n",
    "                    .agg(targets = ('play_id', 'count'),\n",
    "                         catches = ('complete_pass', 'sum'))\n",
    "                    .reset_index()\n",
    "                    .rename(columns={\n",
    "                        'receiver_player_id': 'player_id',\n",
    "                        'receiver_player_name': 'player_name'}))"
   ]
  },
  {
   "cell_type": "code",
   "execution_count": null,
   "metadata": {},
   "outputs": [],
   "source": [
    "weekly_rec_stats.head()"
   ]
  },
  {
   "cell_type": "code",
   "execution_count": null,
   "metadata": {},
   "outputs": [],
   "source": [
    "weekly_stats_player = pd.merge(weekly_rec_stats, weekly_rush_stats, how='outer').fillna(0)"
   ]
  },
  {
   "cell_type": "code",
   "execution_count": null,
   "metadata": {},
   "outputs": [],
   "source": [
    "weekly_stats_player.head()"
   ]
  },
  {
   "cell_type": "markdown",
   "metadata": {},
   "source": [
    "Season-long stats by player"
   ]
  },
  {
   "cell_type": "code",
   "execution_count": null,
   "metadata": {},
   "outputs": [],
   "source": [
    "season_rush_stats = (pbp\n",
    "                     .query(\"play_type == 'run'\")\n",
    "                     .groupby(['rusher_player_id', 'rusher_player_name'])\n",
    "                     .agg(carries = ('play_id', 'count'))\n",
    "                     .reset_index()\n",
    "                     .rename(columns={\n",
    "                         'rusher_player_id': 'player_id',\n",
    "                         'rusher_player_name': 'player_name'}))"
   ]
  },
  {
   "cell_type": "code",
   "execution_count": null,
   "metadata": {},
   "outputs": [],
   "source": [
    "season_rush_stats.head()"
   ]
  },
  {
   "cell_type": "code",
   "execution_count": null,
   "metadata": {},
   "outputs": [],
   "source": [
    "season_rush_stats.query(\"player_name == 'E.Elliott'\")"
   ]
  },
  {
   "cell_type": "code",
   "execution_count": null,
   "metadata": {},
   "outputs": [],
   "source": [
    "season_rec_stats = (pbp\n",
    "                    .query(\"play_type == 'pass'\")\n",
    "                    .groupby(['receiver_player_id', 'receiver_player_name'])\n",
    "                    .agg(targets = ('play_id', 'count'),\n",
    "                         catches = ('complete_pass', 'sum'))\n",
    "                    .reset_index()\n",
    "                    .rename(columns={\n",
    "                        'receiver_player_id': 'player_id',\n",
    "                        'receiver_player_name': 'player_name'}))"
   ]
  },
  {
   "cell_type": "code",
   "execution_count": null,
   "metadata": {},
   "outputs": [],
   "source": [
    "season_rec_stats.query(\"player_name == 'J.Landry'\")"
   ]
  },
  {
   "cell_type": "code",
   "execution_count": null,
   "metadata": {},
   "outputs": [],
   "source": [
    "season_stats_player = pd.merge(season_rush_stats, season_rec_stats, how='outer').fillna(0)"
   ]
  },
  {
   "cell_type": "code",
   "execution_count": null,
   "metadata": {},
   "outputs": [],
   "source": [
    "season_stats_player.head()"
   ]
  },
  {
   "cell_type": "code",
   "execution_count": null,
   "metadata": {},
   "outputs": [],
   "source": [
    "season_stats_player.query(\"player_name == 'C.McCaffrey'\")"
   ]
  },
  {
   "cell_type": "code",
   "execution_count": null,
   "metadata": {},
   "outputs": [],
   "source": [
    "season_stats_player.query(\"player_name == 'E.Elliott'\")"
   ]
  },
  {
   "cell_type": "code",
   "execution_count": null,
   "metadata": {},
   "outputs": [],
   "source": [
    "season_stats_player.query(\"player_name == 'J.Landry'\")"
   ]
  },
  {
   "cell_type": "code",
   "execution_count": null,
   "metadata": {},
   "outputs": [],
   "source": [
    "pbp.head()"
   ]
  },
  {
   "cell_type": "code",
   "execution_count": null,
   "metadata": {},
   "outputs": [],
   "source": [
    "pbp_full = pd.read_csv(PBP_PATH)"
   ]
  },
  {
   "cell_type": "code",
   "execution_count": null,
   "metadata": {},
   "outputs": [],
   "source": [
    "# Fix mistake in pbp data\n",
    "#J.Landry did not score a TD in week 1\n",
    "pbp_full.at[1407,'touchdown'] = 0.0"
   ]
  },
  {
   "cell_type": "code",
   "execution_count": null,
   "metadata": {
    "scrolled": true
   },
   "outputs": [],
   "source": [
    "for col in pbp_full.columns:\n",
    "    print(col)"
   ]
  },
  {
   "cell_type": "code",
   "execution_count": null,
   "metadata": {},
   "outputs": [],
   "source": [
    "pbp_full.query(\"fumble == 1\").query(\"receiver_player_name == 'S.Barkley'\")"
   ]
  },
  {
   "cell_type": "code",
   "execution_count": null,
   "metadata": {},
   "outputs": [],
   "source": [
    "pbp_full.iloc[179]"
   ]
  },
  {
   "cell_type": "code",
   "execution_count": null,
   "metadata": {},
   "outputs": [],
   "source": [
    "pbp_full.query(\"touchdown == 1\")"
   ]
  },
  {
   "cell_type": "code",
   "execution_count": null,
   "metadata": {},
   "outputs": [],
   "source": [
    "season_rush_stats = (pbp_full\n",
    "                     .query(\"play_type == 'run' or play_type == 'qb_kneel'\")\n",
    "                     .groupby(['rusher_player_id', 'rusher_player_name'])\n",
    "                     .agg(carries = ('play_id', 'count'),\n",
    "                          rush_yards = ('yards_gained', 'sum'),\n",
    "                          rush_tds = ('touchdown', 'sum'))\n",
    "                     .reset_index()\n",
    "                     .rename(columns={\n",
    "                         'rusher_player_id': 'player_id',\n",
    "                         'rusher_player_name': 'player_name'}))"
   ]
  },
  {
   "cell_type": "code",
   "execution_count": null,
   "metadata": {},
   "outputs": [],
   "source": [
    "season_rush_stats.head()"
   ]
  },
  {
   "cell_type": "code",
   "execution_count": null,
   "metadata": {},
   "outputs": [],
   "source": [
    "season_rush_stats.query(\"player_name == 'S.Barkley'\")"
   ]
  },
  {
   "cell_type": "code",
   "execution_count": null,
   "metadata": {},
   "outputs": [],
   "source": [
    "season_rec_stats = (pbp_full\n",
    "                    .query(\"play_type == 'pass'\")\n",
    "                    .groupby(['receiver_player_id', 'receiver_player_name'])\n",
    "                    .agg(targets = ('play_id', 'count'),\n",
    "                         catches = ('complete_pass', 'sum'),\n",
    "                         rec_yards = ('yards_gained','sum'),\n",
    "                         rec_tds = ('touchdown','sum'))\n",
    "                    .reset_index()\n",
    "                    .rename(columns={\n",
    "                        'receiver_player_id': 'player_id',\n",
    "                        'receiver_player_name': 'player_name'}))"
   ]
  },
  {
   "cell_type": "code",
   "execution_count": null,
   "metadata": {},
   "outputs": [],
   "source": [
    "season_rec_stats.head()"
   ]
  },
  {
   "cell_type": "code",
   "execution_count": null,
   "metadata": {},
   "outputs": [],
   "source": [
    "season_stats = pd.merge(season_rush_stats,season_rec_stats,how='outer').fillna(0)"
   ]
  },
  {
   "cell_type": "code",
   "execution_count": null,
   "metadata": {},
   "outputs": [],
   "source": [
    "season_stats.head()"
   ]
  },
  {
   "cell_type": "code",
   "execution_count": null,
   "metadata": {},
   "outputs": [],
   "source": [
    "season_stats.query(\"player_name == 'S.Barkley'\")"
   ]
  },
  {
   "cell_type": "code",
   "execution_count": null,
   "metadata": {},
   "outputs": [],
   "source": [
    "season_fum_stats = (pbp_full\n",
    "                    .query(\"play_type == 'pass'\")\n",
    "                    .groupby(['receiver_player_id', 'receiver_player_name'])\n",
    "                    .agg(targets = ('play_id', 'count'),\n",
    "                         catches = ('complete_pass', 'sum'),\n",
    "                         rec_yards = ('yards_gained','sum'),\n",
    "                         rec_tds = ('touchdown','sum'))\n",
    "                    .reset_index()\n",
    "                    .rename(columns={\n",
    "                        'receiver_player_id': 'player_id',\n",
    "                        'receiver_player_name': 'player_name'}))\n",
    "\n",
    "\n",
    "                         fumbles = ('fumble', 'sum'),\n",
    "                         fumbles_lost = ('fumble_lost', 'sum'))"
   ]
  },
  {
   "cell_type": "code",
   "execution_count": null,
   "metadata": {},
   "outputs": [],
   "source": [
    "ppr = 0.5\n",
    "td_pt = 6.0\n",
    "ppc = 0.0\n",
    "yd_pt = 0.1"
   ]
  },
  {
   "cell_type": "code",
   "execution_count": null,
   "metadata": {},
   "outputs": [],
   "source": [
    "season_stats[\"fantasy_points\"] = ppr*season_stats.catches + td_pt*(season_stats.rush_tds + season_stats.rec_tds) + ppc*season_stats.carries + yd_pt*(season_stats.rush_yards + season_stats.rec_yards)"
   ]
  },
  {
   "cell_type": "code",
   "execution_count": null,
   "metadata": {},
   "outputs": [],
   "source": [
    "season_stats.sort_values(by=['fantasy_points'],ascending = False).head()"
   ]
  },
  {
   "cell_type": "code",
   "execution_count": null,
   "metadata": {},
   "outputs": [],
   "source": []
  }
 ],
 "metadata": {
  "kernelspec": {
   "display_name": "Python 3",
   "language": "python",
   "name": "python3"
  },
  "language_info": {
   "codemirror_mode": {
    "name": "ipython",
    "version": 3
   },
   "file_extension": ".py",
   "mimetype": "text/x-python",
   "name": "python",
   "nbconvert_exporter": "python",
   "pygments_lexer": "ipython3",
   "version": "3.7.4"
  }
 },
 "nbformat": 4,
 "nbformat_minor": 2
}
