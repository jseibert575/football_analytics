{
 "cells": [
  {
   "cell_type": "code",
   "execution_count": null,
   "metadata": {},
   "outputs": [],
   "source": [
    "import pandas as pd\n",
    "import numpy as np\n",
    "\n",
    "pd.set_option('display.max_columns', None)\n",
    "pd.set_option('display.max_rows', None)\n"
   ]
  },
  {
   "cell_type": "code",
   "execution_count": null,
   "metadata": {},
   "outputs": [],
   "source": [
    "#Enter desired years of data\n",
    "YEARS = [2019]\n",
    "\n",
    "data = pd.DataFrame()\n",
    "\n",
    "for i in YEARS:  \n",
    "    #low_memory=False eliminates a warning\n",
    "    i_data = pd.read_csv('https://github.com/guga31bb/nflfastR-data/blob/master/data/' \n",
    "                         'play_by_play_' + str(i) + '.csv.gz?raw=True',\n",
    "                         compression='gzip', low_memory=False)\n",
    "\n",
    "    #sort=True eliminates a warning and alphabetically sorts columns\n",
    "    data = data.append(i_data, sort=True)\n",
    "\n",
    "#Give each row a unique index\n",
    "data.reset_index(drop=True, inplace=True)\n",
    "    \n",
    "roster = pd.read_csv('https://raw.githubusercontent.com/guga31bb/nflfastR-data/master/'  \n",
    "                     'roster-data/roster.csv.gz', compression='gzip', low_memory=False)"
   ]
  },
  {
   "cell_type": "code",
   "execution_count": null,
   "metadata": {},
   "outputs": [],
   "source": [
    "for col in data.columns:\n",
    "    print(col)"
   ]
  },
  {
   "cell_type": "code",
   "execution_count": null,
   "metadata": {},
   "outputs": [],
   "source": [
    "season_rush_stats_2019 = (data\n",
    "                     .query(\"play_type == 'run' or play_type == 'qb_kneel'\")\n",
    "                     .query(\"interception == 0\")\n",
    "                     .query(\"season == 2019\")\n",
    "                     .query(\"game_type == 'REG'\")\n",
    "                     .groupby(['rusher_player_id', 'rusher_player_name'])\n",
    "                     .agg(carries = ('play_id', 'count'),\n",
    "                          rush_yards = ('yards_gained', 'sum'),\n",
    "                          rush_tds = ('touchdown', 'sum'))\n",
    "                     .reset_index()\n",
    "                     .rename(columns={\n",
    "                         'rusher_player_id': 'player_id',\n",
    "                         'rusher_player_name': 'player_name'}))"
   ]
  },
  {
   "cell_type": "code",
   "execution_count": null,
   "metadata": {},
   "outputs": [],
   "source": [
    "season_rush_stats_2019.head()"
   ]
  },
  {
   "cell_type": "code",
   "execution_count": null,
   "metadata": {},
   "outputs": [],
   "source": [
    "season_rec_stats_2019 = (data\n",
    "                    .query(\"play_type == 'pass'\")\n",
    "                    .query(\"interception == 0\")\n",
    "                    .query(\"season == 2019\")\n",
    "                    .query(\"game_type == 'REG'\")\n",
    "                    .groupby(['receiver_player_id', 'receiver_player_name'])\n",
    "                    .agg(targets = ('play_id', 'count'),\n",
    "                         catches = ('complete_pass', 'sum'),\n",
    "                         rec_yards = ('yards_gained','sum'),\n",
    "                         rec_tds = ('touchdown','sum'))\n",
    "                    .reset_index()\n",
    "                    .rename(columns={\n",
    "                        'receiver_player_id': 'player_id',\n",
    "                        'receiver_player_name': 'player_name'}))"
   ]
  },
  {
   "cell_type": "code",
   "execution_count": null,
   "metadata": {},
   "outputs": [],
   "source": [
    "season_rec_stats_2019.head()"
   ]
  },
  {
   "cell_type": "code",
   "execution_count": null,
   "metadata": {},
   "outputs": [],
   "source": [
    "season_rec_stats_2019.keys"
   ]
  },
  {
   "cell_type": "code",
   "execution_count": null,
   "metadata": {},
   "outputs": [],
   "source": [
    "season_stats_2019 = pd.merge(season_rush_stats_2019,season_rec_stats_2019,how='outer').fillna(0)"
   ]
  },
  {
   "cell_type": "code",
   "execution_count": null,
   "metadata": {},
   "outputs": [],
   "source": [
    "season_stats_2019.head()"
   ]
  },
  {
   "cell_type": "code",
   "execution_count": null,
   "metadata": {},
   "outputs": [],
   "source": [
    "data.query(\"play_type == 'pass'\")[[\"passer_player_id\",\"passer_player_name\"]]"
   ]
  },
  {
   "cell_type": "markdown",
   "metadata": {},
   "source": [
    "I think I'm missing plays like the Brady interception in week 6 against the Giants, where the play_type is flagged as \"no-play\" because of something else. Same thing happens in week 13 against the Texans. I wonder how many plays are missed because they're flagged as \"no_play\""
   ]
  },
  {
   "cell_type": "code",
   "execution_count": null,
   "metadata": {},
   "outputs": [],
   "source": [
    "# No flag for picks here, because we want to include all attempts, which includes picks. \n",
    "# So, we can't filter for touchdowns here, because we'll accidentally get pick-sixes. \n",
    "# Important to not filter out fumbles, because otherwise we'll erase completions where the receiver fumbled.\n",
    "\n",
    "season_pass_stats_2019 = (data\n",
    "                    .query(\"play_type == 'pass'\")\n",
    "#                     .query(\"interception == 0\")\n",
    "                    .query(\"sack == 0\")\n",
    "#                     .query(\"fumble == 0\")\n",
    "                    .query(\"season == 2019\")\n",
    "                    .query(\"game_type == 'REG'\")\n",
    "                    .groupby(['passer_player_id', 'passer_player_name'])\n",
    "                    .agg(completions = ('complete_pass', 'sum'),\n",
    "                         attempts = ('play_id', 'count'),\n",
    "                         pass_yards = ('yards_gained','sum'),\n",
    "                         ints = ('interception','sum'))\n",
    "#                          pass_tds = ('touchdown','sum'))\n",
    "                    .reset_index()\n",
    "                    .rename(columns={\n",
    "                        'passer_player_id': 'player_id',\n",
    "                        'passer_player_name': 'player_name'}))"
   ]
  },
  {
   "cell_type": "code",
   "execution_count": null,
   "metadata": {
    "scrolled": true
   },
   "outputs": [],
   "source": [
    "season_pass_stats_2019.head()"
   ]
  },
  {
   "cell_type": "code",
   "execution_count": null,
   "metadata": {},
   "outputs": [],
   "source": [
    "data.query(\"play_type == 'pass'\").query(\"passer_player_name == 'T.Brady'\").query(\"game_type == 'REG'\").query(\"interception == 1\")\n"
   ]
  },
  {
   "cell_type": "code",
   "execution_count": null,
   "metadata": {
    "scrolled": false
   },
   "outputs": [],
   "source": [
    "data.query(\"passer_player_name == 'T.Brady'\").query(\"game_type == 'REG'\").query(\"week == 6\").query(\"play_id == 455\")\n"
   ]
  },
  {
   "cell_type": "code",
   "execution_count": null,
   "metadata": {},
   "outputs": [],
   "source": [
    "data.query(\"passer_player_name == 'T.Brady'\").query(\"game_type == 'REG'\").query(\"interception == 1\")[[\"play_type\",\"play_type_nfl\",\"pass\",\"rush\"]]\n"
   ]
  },
  {
   "cell_type": "code",
   "execution_count": null,
   "metadata": {
    "scrolled": true
   },
   "outputs": [],
   "source": [
    "data.play_type.value_counts()\n"
   ]
  },
  {
   "cell_type": "code",
   "execution_count": null,
   "metadata": {},
   "outputs": [],
   "source": [
    "data.query(\"penalty == 1\")[[\"penalty_type\",\"play_type\"]]"
   ]
  },
  {
   "cell_type": "code",
   "execution_count": null,
   "metadata": {
    "scrolled": false
   },
   "outputs": [],
   "source": [
    "tom_brady_stats_2019 = (data\n",
    "                    .query(\"passer_player_name == 'T.Brady'\")\n",
    "                    .query(\"play_type == 'pass'\")\n",
    "                    .query(\"interception == 0\")\n",
    "                    .query(\"season == 2019\")\n",
    "                    .query(\"game_type == 'REG'\")\n",
    "                    .groupby([\"game_id\"])\n",
    "                    .agg(completions = ('complete_pass', 'sum'),\n",
    "                         attempts = ('play_id', 'count'),\n",
    "                         pass_yards = ('yards_gained','sum'),\n",
    "                         pass_tds = ('touchdown','sum'))\n",
    "                    .reset_index()\n",
    "                    .rename(columns={\n",
    "                        'passer_player_id': 'player_id',\n",
    "                        'passer_player_name': 'player_name'}))\n",
    "\n",
    "tom_brady_stats_2019"
   ]
  },
  {
   "cell_type": "code",
   "execution_count": null,
   "metadata": {},
   "outputs": [],
   "source": [
    "eli_manning_stats_2019 = (data\n",
    "                    .query(\"passer_player_name == 'E.Manning'\")\n",
    "                    .query(\"play_type == 'pass'\")\n",
    "#                     .query(\"interception == 0\")\n",
    "                    .query(\"season == 2019\")\n",
    "                    .query(\"game_type == 'REG'\")\n",
    "                    .groupby([\"game_id\"])\n",
    "                    .agg(completions = ('complete_pass', 'sum'),\n",
    "                         attempts = ('play_id', 'count'),\n",
    "                         ints = ('interception', 'sum'))\n",
    "#                          pass_yards = ('yards_gained','sum'),\n",
    "#                          pass_tds = ('touchdown','sum'))\n",
    "                    .reset_index()\n",
    "                    .rename(columns={\n",
    "                        'passer_player_id': 'player_id',\n",
    "                        'passer_player_name': 'player_name'}))\n",
    "\n",
    "eli_manning_stats_2019"
   ]
  },
  {
   "cell_type": "code",
   "execution_count": null,
   "metadata": {},
   "outputs": [],
   "source": [
    "data.query(\"passer_player_name == 'E.Manning'\").query(\"play_type == 'pass'\").query(\"season==2019\").query(\"week==14\")[[\"receiver_player_name\",\"complete_pass\",\"touchdown\",\"yards_gained\",\"interception\"]]"
   ]
  },
  {
   "cell_type": "code",
   "execution_count": null,
   "metadata": {},
   "outputs": [],
   "source": [
    "season_stats_2019.query(\"player_id == '00-0035676'\")"
   ]
  },
  {
   "cell_type": "code",
   "execution_count": null,
   "metadata": {},
   "outputs": [],
   "source": [
    "data.loc[(data[\"pass\"]==1) & (data.play_type == 'run')][[\"yards_gained\",\"passer\",\"desc\"]]"
   ]
  },
  {
   "cell_type": "code",
   "execution_count": null,
   "metadata": {},
   "outputs": [],
   "source": []
  }
 ],
 "metadata": {
  "kernelspec": {
   "display_name": "Python 3",
   "language": "python",
   "name": "python3"
  },
  "language_info": {
   "codemirror_mode": {
    "name": "ipython",
    "version": 3
   },
   "file_extension": ".py",
   "mimetype": "text/x-python",
   "name": "python",
   "nbconvert_exporter": "python",
   "pygments_lexer": "ipython3",
   "version": "3.7.4"
  }
 },
 "nbformat": 4,
 "nbformat_minor": 2
}
